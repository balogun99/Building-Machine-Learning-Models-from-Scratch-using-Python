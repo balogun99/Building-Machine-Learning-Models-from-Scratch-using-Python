{
 "cells": [
  {
   "cell_type": "markdown",
   "metadata": {},
   "source": [
    "# Import Numpy Library"
   ]
  },
  {
   "cell_type": "code",
   "execution_count": 1,
   "metadata": {},
   "outputs": [],
   "source": [
    "import numpy as np"
   ]
  },
  {
   "cell_type": "code",
   "execution_count": null,
   "metadata": {},
   "outputs": [],
   "source": [
    "# creating Lasso Regression class\n",
    "class Lasso_Regression():\n",
    "    \n",
    "# initiating the parameters\n",
    "    def __init__(self, learning_rate, no_of_iterations, lambda_parameters):\n",
    "        \n",
    "        self.learning_rate = learning_rate\n",
    "        self.no_of_iterations = no_of_iterations\n",
    "        self.lambda_parameters = lambda_parameters\n",
    "        \n",
    "# fitting the dataset into the Lasso Regression Model\n",
    "\n",
    "    def fit(self, x, y):\n",
    "        \n",
    "        # m --> no. of Data Points => number of rows\n",
    "        # n --> no. of Input Features => number of columns\n",
    "        \n",
    "        self.m, self.n = x.shape\n",
    "        \n",
    "        self.w = np.zeros(self.n)\n",
    "        self.b = 0\n",
    "        self.x = x\n",
    "        self.y = y\n",
    "        \n",
    "        # implementing Gradient Descent for Optimization\n",
    "        \n",
    "        for i in range(self.no_of_iterations):\n",
    "            self.update_weights()\n",
    "        \n",
    "# function for updating weight and bias value\n",
    "\n",
    "    def update_weights(self):\n",
    "        \n",
    "        # linear equation of the model\n",
    "        y_prediction = self.predict(self.x)\n",
    "        \n",
    "        # Gradients (dw & db)\n",
    "        \n",
    "        # Gradients for Weight\n",
    "        dw = np.zeros(self.n)\n",
    "        \n",
    "        for i in range(self.n):\n",
    "            \n",
    "            if self.w[i] > 0:\n",
    "                \n",
    "                dw[i] = (-(2*(self.x[:,i]).dot(self.y - y_prediction)) + self.lambda_parameters) / self.m\n",
    "                \n",
    "            else:\n",
    "                \n",
    "                dw[i] = (-(2*(self.x[:,i]).dot(self.y - y_prediction)) - self.lambda_parameters) / self.m\n",
    "        \n",
    "#  Gradients for finding the Bias value  \n",
    "        db = - 2 * np.sum(self.y - y_prediction) / self.m\n",
    "        \n",
    "# updating the Bias value\n",
    "        self.w = self.w - self.learning_rate * dw\n",
    "        self.b = self.b - self.learning_rate * db        \n",
    "        \n",
    "# predicting the targe variable\n",
    "\n",
    "    def predict(self,x):\n",
    "        \n",
    "        return x.dot(self.w) + self.b"
   ]
  },
  {
   "cell_type": "markdown",
   "metadata": {},
   "source": []
  }
 ],
 "metadata": {
  "kernelspec": {
   "display_name": "base",
   "language": "python",
   "name": "python3"
  },
  "language_info": {
   "codemirror_mode": {
    "name": "ipython",
    "version": 3
   },
   "file_extension": ".py",
   "mimetype": "text/x-python",
   "name": "python",
   "nbconvert_exporter": "python",
   "pygments_lexer": "ipython3",
   "version": "3.11.7"
  }
 },
 "nbformat": 4,
 "nbformat_minor": 2
}
